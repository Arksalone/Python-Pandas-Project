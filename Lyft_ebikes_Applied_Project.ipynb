{
  "cells": [
    {
      "cell_type": "markdown",
      "metadata": {
        "id": "view-in-github",
        "colab_type": "text"
      },
      "source": [
        "<a href=\"https://colab.research.google.com/github/Arksalone/Arksalone/blob/main/Lyft_ebikes_Applied_Project.ipynb\" target=\"_parent\"><img src=\"https://colab.research.google.com/assets/colab-badge.svg\" alt=\"Open In Colab\"/></a>"
      ]
    },
    {
      "cell_type": "markdown",
      "metadata": {
        "id": "Tf3FRy_TCrb6"
      },
      "source": [
        "![](https://images.ctfassets.net/q8mvene1wzq4/33jAW8nvXF2evwe2XRXBsA/94650ab4152c8c114f4332585c33c948/Blog_Header__1200x670_.jpg?w=1000&q=60&fm=)"
      ]
    },
    {
      "cell_type": "code",
      "execution_count": null,
      "metadata": {
        "id": "aZdXko9k_U0z"
      },
      "outputs": [],
      "source": [
        "# import libraries\n",
        "import pandas as pd\n",
        "import numpy as np\n",
        "import plotly.express as px"
      ]
    },
    {
      "cell_type": "code",
      "execution_count": null,
      "metadata": {
        "id": "wELtDtd3_U00"
      },
      "outputs": [],
      "source": [
        "df = pd.read_csv('datasets/lyft_ebike_data.csv')"
      ]
    },
    {
      "cell_type": "code",
      "execution_count": null,
      "metadata": {
        "id": "J1FmYPcE_U00",
        "outputId": "761b12e9-ac7d-477d-b9bc-86a4bd90eb30"
      },
      "outputs": [
        {
          "data": {
            "text/html": [
              "<div>\n",
              "<style scoped>\n",
              "    .dataframe tbody tr th:only-of-type {\n",
              "        vertical-align: middle;\n",
              "    }\n",
              "\n",
              "    .dataframe tbody tr th {\n",
              "        vertical-align: top;\n",
              "    }\n",
              "\n",
              "    .dataframe thead th {\n",
              "        text-align: right;\n",
              "    }\n",
              "</style>\n",
              "<table border=\"1\" class=\"dataframe\">\n",
              "  <thead>\n",
              "    <tr style=\"text-align: right;\">\n",
              "      <th></th>\n",
              "      <th>ride_id</th>\n",
              "      <th>rideable_type</th>\n",
              "      <th>started_at</th>\n",
              "      <th>ended_at</th>\n",
              "      <th>start_station_name</th>\n",
              "      <th>end_station_name</th>\n",
              "      <th>start_lat</th>\n",
              "      <th>start_lng</th>\n",
              "      <th>end_lat</th>\n",
              "      <th>end_lng</th>\n",
              "      <th>member_type</th>\n",
              "      <th>duration</th>\n",
              "    </tr>\n",
              "  </thead>\n",
              "  <tbody>\n",
              "    <tr>\n",
              "      <th>0</th>\n",
              "      <td>BC1E266A04B3E04E</td>\n",
              "      <td>electric_bike</td>\n",
              "      <td>2020-06-07 14:13:14</td>\n",
              "      <td>2020-06-07 15:49:45</td>\n",
              "      <td>NaN</td>\n",
              "      <td>Jersey St at Castro St</td>\n",
              "      <td>37.760000</td>\n",
              "      <td>-122.420000</td>\n",
              "      <td>37.750513</td>\n",
              "      <td>-122.433830</td>\n",
              "      <td>casual</td>\n",
              "      <td>96.0</td>\n",
              "    </tr>\n",
              "    <tr>\n",
              "      <th>1</th>\n",
              "      <td>3B8B2E6E2A0C70D9</td>\n",
              "      <td>electric_bike</td>\n",
              "      <td>2020-09-11 18:24:22</td>\n",
              "      <td>2020-09-11 18:43:54</td>\n",
              "      <td>NaN</td>\n",
              "      <td>Julian St at The Alameda</td>\n",
              "      <td>37.330000</td>\n",
              "      <td>-121.910000</td>\n",
              "      <td>37.332301</td>\n",
              "      <td>-121.912321</td>\n",
              "      <td>member</td>\n",
              "      <td>19.0</td>\n",
              "    </tr>\n",
              "    <tr>\n",
              "      <th>2</th>\n",
              "      <td>E0D8A02D7FE1904A</td>\n",
              "      <td>electric_bike</td>\n",
              "      <td>2022-08-31 17:56:16</td>\n",
              "      <td>2022-08-31 17:56:56</td>\n",
              "      <td>Embarcadero BART Station (Beale St at Market St)</td>\n",
              "      <td>Embarcadero BART Station (Beale St at Market St)</td>\n",
              "      <td>37.791627</td>\n",
              "      <td>-122.397557</td>\n",
              "      <td>37.792251</td>\n",
              "      <td>-122.397086</td>\n",
              "      <td>Member</td>\n",
              "      <td>0.0</td>\n",
              "    </tr>\n",
              "    <tr>\n",
              "      <th>3</th>\n",
              "      <td>42135E7992B2FA61</td>\n",
              "      <td>electric_bike</td>\n",
              "      <td>2020-05-02 16:17:25</td>\n",
              "      <td>2020-05-02 16:38:46</td>\n",
              "      <td>Page St at Scott St</td>\n",
              "      <td>Randall St at Chenery St</td>\n",
              "      <td>37.772340</td>\n",
              "      <td>-122.435874</td>\n",
              "      <td>37.739842</td>\n",
              "      <td>-122.425440</td>\n",
              "      <td>casual</td>\n",
              "      <td>21.0</td>\n",
              "    </tr>\n",
              "    <tr>\n",
              "      <th>4</th>\n",
              "      <td>BD993A395DAF8E4E</td>\n",
              "      <td>electric_bike</td>\n",
              "      <td>2021-08-13 21:25:30</td>\n",
              "      <td>2021-08-13 21:31:14</td>\n",
              "      <td>NaN</td>\n",
              "      <td>NaN</td>\n",
              "      <td>37.340000</td>\n",
              "      <td>-121.900000</td>\n",
              "      <td>37.340000</td>\n",
              "      <td>-121.900000</td>\n",
              "      <td>member</td>\n",
              "      <td>5.0</td>\n",
              "    </tr>\n",
              "  </tbody>\n",
              "</table>\n",
              "</div>"
            ],
            "text/plain": [
              "            ride_id  rideable_type           started_at             ended_at  \\\n",
              "0  BC1E266A04B3E04E  electric_bike  2020-06-07 14:13:14  2020-06-07 15:49:45   \n",
              "1  3B8B2E6E2A0C70D9  electric_bike  2020-09-11 18:24:22  2020-09-11 18:43:54   \n",
              "2  E0D8A02D7FE1904A  electric_bike  2022-08-31 17:56:16  2022-08-31 17:56:56   \n",
              "3  42135E7992B2FA61  electric_bike  2020-05-02 16:17:25  2020-05-02 16:38:46   \n",
              "4  BD993A395DAF8E4E  electric_bike  2021-08-13 21:25:30  2021-08-13 21:31:14   \n",
              "\n",
              "                                 start_station_name  \\\n",
              "0                                               NaN   \n",
              "1                                               NaN   \n",
              "2  Embarcadero BART Station (Beale St at Market St)   \n",
              "3                               Page St at Scott St   \n",
              "4                                               NaN   \n",
              "\n",
              "                                   end_station_name  start_lat   start_lng  \\\n",
              "0                            Jersey St at Castro St  37.760000 -122.420000   \n",
              "1                          Julian St at The Alameda  37.330000 -121.910000   \n",
              "2  Embarcadero BART Station (Beale St at Market St)  37.791627 -122.397557   \n",
              "3                          Randall St at Chenery St  37.772340 -122.435874   \n",
              "4                                               NaN  37.340000 -121.900000   \n",
              "\n",
              "     end_lat     end_lng member_type  duration  \n",
              "0  37.750513 -122.433830      casual      96.0  \n",
              "1  37.332301 -121.912321      member      19.0  \n",
              "2  37.792251 -122.397086      Member       0.0  \n",
              "3  37.739842 -122.425440      casual      21.0  \n",
              "4  37.340000 -121.900000      member       5.0  "
            ]
          },
          "execution_count": 5,
          "metadata": {},
          "output_type": "execute_result"
        }
      ],
      "source": [
        "# preview data\n",
        "df.head()"
      ]
    },
    {
      "cell_type": "code",
      "execution_count": null,
      "metadata": {
        "id": "_-H27F3f_U00",
        "outputId": "97651cf0-bdf2-44e8-d8d6-e35683b9d260"
      },
      "outputs": [
        {
          "data": {
            "text/plain": [
              "array(['casual', 'member', 'Member', 'CASUAL', 'MEMBER', 'Casual',\n",
              "       'mEMBER', 'cASUAL'], dtype=object)"
            ]
          },
          "execution_count": 7,
          "metadata": {},
          "output_type": "execute_result"
        }
      ],
      "source": [
        "# inspect all the unique values in the 'member_type' column\n",
        "df['member_type'].unique()"
      ]
    },
    {
      "cell_type": "code",
      "execution_count": null,
      "metadata": {
        "id": "atFc75qK_U00"
      },
      "outputs": [],
      "source": [
        "# Function to clean member type\n",
        "def clean_member_type(col_str):\n",
        "    '''\n",
        "    Standardizes the entries in this column so that they are all in upper case\n",
        "    input: string\n",
        "    output: string\n",
        "    '''\n",
        "    return col_str.upper()"
      ]
    },
    {
      "cell_type": "code",
      "execution_count": null,
      "metadata": {
        "id": "osbmkGTJ_U01"
      },
      "outputs": [],
      "source": [
        "# Create new column in dataframe\n",
        "df['clean_member_type'] = df['member_type'].apply(clean_member_type)"
      ]
    },
    {
      "cell_type": "code",
      "execution_count": null,
      "metadata": {
        "id": "HskyG3I5CaoR",
        "outputId": "7a65e7fa-23e3-42c5-b630-309003758476"
      },
      "outputs": [
        {
          "data": {
            "text/html": [
              "<div>\n",
              "<style scoped>\n",
              "    .dataframe tbody tr th:only-of-type {\n",
              "        vertical-align: middle;\n",
              "    }\n",
              "\n",
              "    .dataframe tbody tr th {\n",
              "        vertical-align: top;\n",
              "    }\n",
              "\n",
              "    .dataframe thead th {\n",
              "        text-align: right;\n",
              "    }\n",
              "</style>\n",
              "<table border=\"1\" class=\"dataframe\">\n",
              "  <thead>\n",
              "    <tr style=\"text-align: right;\">\n",
              "      <th></th>\n",
              "      <th>ride_id</th>\n",
              "      <th>rideable_type</th>\n",
              "      <th>started_at</th>\n",
              "      <th>ended_at</th>\n",
              "      <th>start_station_name</th>\n",
              "      <th>end_station_name</th>\n",
              "      <th>start_lat</th>\n",
              "      <th>start_lng</th>\n",
              "      <th>end_lat</th>\n",
              "      <th>end_lng</th>\n",
              "      <th>member_type</th>\n",
              "      <th>duration</th>\n",
              "      <th>clean_member_type</th>\n",
              "    </tr>\n",
              "  </thead>\n",
              "  <tbody>\n",
              "    <tr>\n",
              "      <th>0</th>\n",
              "      <td>BC1E266A04B3E04E</td>\n",
              "      <td>electric_bike</td>\n",
              "      <td>2020-06-07 14:13:14</td>\n",
              "      <td>2020-06-07 15:49:45</td>\n",
              "      <td>NaN</td>\n",
              "      <td>Jersey St at Castro St</td>\n",
              "      <td>37.760000</td>\n",
              "      <td>-122.420000</td>\n",
              "      <td>37.750513</td>\n",
              "      <td>-122.433830</td>\n",
              "      <td>casual</td>\n",
              "      <td>96.0</td>\n",
              "      <td>CASUAL</td>\n",
              "    </tr>\n",
              "    <tr>\n",
              "      <th>1</th>\n",
              "      <td>3B8B2E6E2A0C70D9</td>\n",
              "      <td>electric_bike</td>\n",
              "      <td>2020-09-11 18:24:22</td>\n",
              "      <td>2020-09-11 18:43:54</td>\n",
              "      <td>NaN</td>\n",
              "      <td>Julian St at The Alameda</td>\n",
              "      <td>37.330000</td>\n",
              "      <td>-121.910000</td>\n",
              "      <td>37.332301</td>\n",
              "      <td>-121.912321</td>\n",
              "      <td>member</td>\n",
              "      <td>19.0</td>\n",
              "      <td>MEMBER</td>\n",
              "    </tr>\n",
              "    <tr>\n",
              "      <th>2</th>\n",
              "      <td>E0D8A02D7FE1904A</td>\n",
              "      <td>electric_bike</td>\n",
              "      <td>2022-08-31 17:56:16</td>\n",
              "      <td>2022-08-31 17:56:56</td>\n",
              "      <td>Embarcadero BART Station (Beale St at Market St)</td>\n",
              "      <td>Embarcadero BART Station (Beale St at Market St)</td>\n",
              "      <td>37.791627</td>\n",
              "      <td>-122.397557</td>\n",
              "      <td>37.792251</td>\n",
              "      <td>-122.397086</td>\n",
              "      <td>Member</td>\n",
              "      <td>0.0</td>\n",
              "      <td>MEMBER</td>\n",
              "    </tr>\n",
              "    <tr>\n",
              "      <th>3</th>\n",
              "      <td>42135E7992B2FA61</td>\n",
              "      <td>electric_bike</td>\n",
              "      <td>2020-05-02 16:17:25</td>\n",
              "      <td>2020-05-02 16:38:46</td>\n",
              "      <td>Page St at Scott St</td>\n",
              "      <td>Randall St at Chenery St</td>\n",
              "      <td>37.772340</td>\n",
              "      <td>-122.435874</td>\n",
              "      <td>37.739842</td>\n",
              "      <td>-122.425440</td>\n",
              "      <td>casual</td>\n",
              "      <td>21.0</td>\n",
              "      <td>CASUAL</td>\n",
              "    </tr>\n",
              "    <tr>\n",
              "      <th>4</th>\n",
              "      <td>BD993A395DAF8E4E</td>\n",
              "      <td>electric_bike</td>\n",
              "      <td>2021-08-13 21:25:30</td>\n",
              "      <td>2021-08-13 21:31:14</td>\n",
              "      <td>NaN</td>\n",
              "      <td>NaN</td>\n",
              "      <td>37.340000</td>\n",
              "      <td>-121.900000</td>\n",
              "      <td>37.340000</td>\n",
              "      <td>-121.900000</td>\n",
              "      <td>member</td>\n",
              "      <td>5.0</td>\n",
              "      <td>MEMBER</td>\n",
              "    </tr>\n",
              "  </tbody>\n",
              "</table>\n",
              "</div>"
            ],
            "text/plain": [
              "            ride_id  rideable_type           started_at             ended_at  \\\n",
              "0  BC1E266A04B3E04E  electric_bike  2020-06-07 14:13:14  2020-06-07 15:49:45   \n",
              "1  3B8B2E6E2A0C70D9  electric_bike  2020-09-11 18:24:22  2020-09-11 18:43:54   \n",
              "2  E0D8A02D7FE1904A  electric_bike  2022-08-31 17:56:16  2022-08-31 17:56:56   \n",
              "3  42135E7992B2FA61  electric_bike  2020-05-02 16:17:25  2020-05-02 16:38:46   \n",
              "4  BD993A395DAF8E4E  electric_bike  2021-08-13 21:25:30  2021-08-13 21:31:14   \n",
              "\n",
              "                                 start_station_name  \\\n",
              "0                                               NaN   \n",
              "1                                               NaN   \n",
              "2  Embarcadero BART Station (Beale St at Market St)   \n",
              "3                               Page St at Scott St   \n",
              "4                                               NaN   \n",
              "\n",
              "                                   end_station_name  start_lat   start_lng  \\\n",
              "0                            Jersey St at Castro St  37.760000 -122.420000   \n",
              "1                          Julian St at The Alameda  37.330000 -121.910000   \n",
              "2  Embarcadero BART Station (Beale St at Market St)  37.791627 -122.397557   \n",
              "3                          Randall St at Chenery St  37.772340 -122.435874   \n",
              "4                                               NaN  37.340000 -121.900000   \n",
              "\n",
              "     end_lat     end_lng member_type  duration clean_member_type  \n",
              "0  37.750513 -122.433830      casual      96.0            CASUAL  \n",
              "1  37.332301 -121.912321      member      19.0            MEMBER  \n",
              "2  37.792251 -122.397086      Member       0.0            MEMBER  \n",
              "3  37.739842 -122.425440      casual      21.0            CASUAL  \n",
              "4  37.340000 -121.900000      member       5.0            MEMBER  "
            ]
          },
          "execution_count": 10,
          "metadata": {},
          "output_type": "execute_result"
        }
      ],
      "source": [
        "# See new data\n",
        "df.head()"
      ]
    },
    {
      "cell_type": "code",
      "execution_count": null,
      "metadata": {
        "id": "uGzvlY9x_U01"
      },
      "outputs": [],
      "source": [
        "# Function to calculate the cost of each ride\n",
        "def ride_cost(df_row):\n",
        "    '''\n",
        "    Returns the total price for the ride\n",
        "    from lyft's term of agreement.\n",
        "\n",
        "    Member riders pay $0.20 per minute\n",
        "    casual riders pay $0.30 per minute plus a $3.49 unlocking fee\n",
        "\n",
        "    input: row of datafram with several columns\n",
        "    output: cost of ride as numeric value\n",
        "    '''\n",
        "    if df_row['clean_member_type'] == 'MEMBER':\n",
        "        return df['duration'] * 0.20\n",
        "    else:\n",
        "        return 0.30 * df['duration'] + 3.49"
      ]
    },
    {
      "cell_type": "code",
      "execution_count": null,
      "metadata": {
        "id": "tiwwVkZl_U02"
      },
      "outputs": [],
      "source": [
        "# Create a new column with the ride cost\n",
        "df['ride_cost'] = df[['duration', 'clean_member_type']].apply(ride_cost, axis = 'columns')"
      ]
    },
    {
      "cell_type": "code",
      "execution_count": null,
      "metadata": {
        "id": "UBYLfsKK_U02"
      },
      "outputs": [],
      "source": [
        "# Generate statistics on the ride cost & duration of the two member types.\n",
        "# For 'ride_cost' calculate the total value and the average ride cost\n",
        "# For 'duration' calculate the average ride time\n",
        "# For 'ride_id' count the number of rides on the platform\n",
        "agg_values = {\n",
        "    'ride_cost' : ['sum', 'mean'],\n",
        "    'duration'  : ['mean'],\n",
        "    'ride_id'   : ['count']\n",
        "}\n",
        "\n",
        "df.groupby('clean_member_type').agg(agg_value)"
      ]
    },
    {
      "cell_type": "code",
      "execution_count": null,
      "metadata": {
        "id": "Z77jcLLH_U02"
      },
      "outputs": [],
      "source": [
        "# Create some visualizations of the data\n"
      ]
    },
    {
      "cell_type": "code",
      "execution_count": null,
      "metadata": {
        "id": "2aBvh41C_U02"
      },
      "outputs": [],
      "source": []
    },
    {
      "cell_type": "code",
      "execution_count": null,
      "metadata": {
        "id": "EKnVBCU4_U03"
      },
      "outputs": [],
      "source": []
    }
  ],
  "metadata": {
    "colab": {
      "provenance": [],
      "include_colab_link": true
    },
    "kernelspec": {
      "display_name": "Python 3 (ipykernel)",
      "language": "python",
      "name": "python3"
    },
    "language_info": {
      "codemirror_mode": {
        "name": "ipython",
        "version": 3
      },
      "file_extension": ".py",
      "mimetype": "text/x-python",
      "name": "python",
      "nbconvert_exporter": "python",
      "pygments_lexer": "ipython3",
      "version": "3.10.6"
    }
  },
  "nbformat": 4,
  "nbformat_minor": 0
}